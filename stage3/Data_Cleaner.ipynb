{
 "cells": [
  {
   "cell_type": "markdown",
   "metadata": {},
   "source": [
    "# Individual Person Carbon Footprint Data Cleaner "
   ]
  },
  {
   "cell_type": "markdown",
   "metadata": {},
   "source": [
    "This notebook is used to load data from the spreadsheet containing the data about the carboon footprints of each individual person from the given .xlsx data file given as part of the Wells Fargo Campus Analytics Challenge."
   ]
  },
  {
   "cell_type": "markdown",
   "metadata": {},
   "source": [
    "## Section 1: Importing the required libraries"
   ]
  },
  {
   "cell_type": "markdown",
   "metadata": {},
   "source": [
    "Import the required libraries for loading and augmenting the dataset"
   ]
  },
  {
   "cell_type": "code",
   "execution_count": 2,
   "metadata": {},
   "outputs": [],
   "source": [
    "import pandas as pd\n",
    "import numpy as np"
   ]
  },
  {
   "cell_type": "markdown",
   "metadata": {},
   "source": [
    "## Section 2: Loading the Data"
   ]
  },
  {
   "cell_type": "markdown",
   "metadata": {},
   "source": [
    "First we will load the data from the first spreadsheet ('Individuals') from given .xlsx file into a dataframe"
   ]
  },
  {
   "cell_type": "code",
   "execution_count": 3,
   "metadata": {},
   "outputs": [],
   "source": [
    "# Loading the dataset into a dataframe\n",
    "individuals_carbon_footprint_df = pd.read_excel(r'Data.xlsx', sheet_name='Individuals')"
   ]
  },
  {
   "cell_type": "code",
   "execution_count": 4,
   "metadata": {},
   "outputs": [
    {
     "data": {
      "text/html": [
       "<div>\n",
       "<style scoped>\n",
       "    .dataframe tbody tr th:only-of-type {\n",
       "        vertical-align: middle;\n",
       "    }\n",
       "\n",
       "    .dataframe tbody tr th {\n",
       "        vertical-align: top;\n",
       "    }\n",
       "\n",
       "    .dataframe thead th {\n",
       "        text-align: right;\n",
       "    }\n",
       "</style>\n",
       "<table border=\"1\" class=\"dataframe\">\n",
       "  <thead>\n",
       "    <tr style=\"text-align: right;\">\n",
       "      <th></th>\n",
       "      <th>Indnum</th>\n",
       "      <th>Group</th>\n",
       "      <th>Activity</th>\n",
       "      <th>Units</th>\n",
       "      <th>Consumption</th>\n",
       "      <th>Quality_of_Life_Importance__1_10</th>\n",
       "      <th>solar_powered__water_heater</th>\n",
       "      <th>gas_water_heater</th>\n",
       "      <th>electric_water_heater___peak_hou</th>\n",
       "      <th>electric_water_heater___off_peak</th>\n",
       "      <th>gas</th>\n",
       "      <th>natural_gas</th>\n",
       "      <th>hybrid</th>\n",
       "      <th>electric___peak_hours</th>\n",
       "      <th>electric___off_peak_hours</th>\n",
       "      <th>jetfuel</th>\n",
       "    </tr>\n",
       "  </thead>\n",
       "  <tbody>\n",
       "    <tr>\n",
       "      <th>0</th>\n",
       "      <td>1</td>\n",
       "      <td>1</td>\n",
       "      <td>Household heating =&gt; 70F</td>\n",
       "      <td>hours</td>\n",
       "      <td>2.0</td>\n",
       "      <td>88.0</td>\n",
       "      <td>NaN</td>\n",
       "      <td>NaN</td>\n",
       "      <td>NaN</td>\n",
       "      <td>NaN</td>\n",
       "      <td>NaN</td>\n",
       "      <td>1.0</td>\n",
       "      <td>NaN</td>\n",
       "      <td>NaN</td>\n",
       "      <td>NaN</td>\n",
       "      <td>NaN</td>\n",
       "    </tr>\n",
       "    <tr>\n",
       "      <th>1</th>\n",
       "      <td>1</td>\n",
       "      <td>1</td>\n",
       "      <td>Household heating &lt; 70F</td>\n",
       "      <td>hours</td>\n",
       "      <td>10.0</td>\n",
       "      <td>85.0</td>\n",
       "      <td>1.0</td>\n",
       "      <td>1.0</td>\n",
       "      <td>NaN</td>\n",
       "      <td>NaN</td>\n",
       "      <td>NaN</td>\n",
       "      <td>1.0</td>\n",
       "      <td>NaN</td>\n",
       "      <td>NaN</td>\n",
       "      <td>NaN</td>\n",
       "      <td>NaN</td>\n",
       "    </tr>\n",
       "    <tr>\n",
       "      <th>2</th>\n",
       "      <td>1</td>\n",
       "      <td>1</td>\n",
       "      <td>Use of heat pump</td>\n",
       "      <td>hours</td>\n",
       "      <td>NaN</td>\n",
       "      <td>50.0</td>\n",
       "      <td>NaN</td>\n",
       "      <td>NaN</td>\n",
       "      <td>NaN</td>\n",
       "      <td>NaN</td>\n",
       "      <td>NaN</td>\n",
       "      <td>NaN</td>\n",
       "      <td>NaN</td>\n",
       "      <td>NaN</td>\n",
       "      <td>NaN</td>\n",
       "      <td>NaN</td>\n",
       "    </tr>\n",
       "    <tr>\n",
       "      <th>3</th>\n",
       "      <td>1</td>\n",
       "      <td>1</td>\n",
       "      <td>Use of air conditioner</td>\n",
       "      <td>hours</td>\n",
       "      <td>20.0</td>\n",
       "      <td>45.0</td>\n",
       "      <td>NaN</td>\n",
       "      <td>NaN</td>\n",
       "      <td>NaN</td>\n",
       "      <td>NaN</td>\n",
       "      <td>NaN</td>\n",
       "      <td>NaN</td>\n",
       "      <td>NaN</td>\n",
       "      <td>NaN</td>\n",
       "      <td>NaN</td>\n",
       "      <td>NaN</td>\n",
       "    </tr>\n",
       "    <tr>\n",
       "      <th>4</th>\n",
       "      <td>1</td>\n",
       "      <td>2</td>\n",
       "      <td>shower - short</td>\n",
       "      <td>count</td>\n",
       "      <td>5.0</td>\n",
       "      <td>98.0</td>\n",
       "      <td>NaN</td>\n",
       "      <td>NaN</td>\n",
       "      <td>NaN</td>\n",
       "      <td>NaN</td>\n",
       "      <td>NaN</td>\n",
       "      <td>NaN</td>\n",
       "      <td>NaN</td>\n",
       "      <td>NaN</td>\n",
       "      <td>NaN</td>\n",
       "      <td>NaN</td>\n",
       "    </tr>\n",
       "  </tbody>\n",
       "</table>\n",
       "</div>"
      ],
      "text/plain": [
       "   Indnum  Group                  Activity  Units  Consumption  \\\n",
       "0       1      1  Household heating => 70F  hours          2.0   \n",
       "1       1      1   Household heating < 70F  hours         10.0   \n",
       "2       1      1          Use of heat pump  hours          NaN   \n",
       "3       1      1    Use of air conditioner  hours         20.0   \n",
       "4       1      2            shower - short  count          5.0   \n",
       "\n",
       "   Quality_of_Life_Importance__1_10  solar_powered__water_heater  \\\n",
       "0                              88.0                          NaN   \n",
       "1                              85.0                          1.0   \n",
       "2                              50.0                          NaN   \n",
       "3                              45.0                          NaN   \n",
       "4                              98.0                          NaN   \n",
       "\n",
       "   gas_water_heater  electric_water_heater___peak_hou  \\\n",
       "0               NaN                               NaN   \n",
       "1               1.0                               NaN   \n",
       "2               NaN                               NaN   \n",
       "3               NaN                               NaN   \n",
       "4               NaN                               NaN   \n",
       "\n",
       "   electric_water_heater___off_peak  gas  natural_gas  hybrid  \\\n",
       "0                               NaN  NaN          1.0     NaN   \n",
       "1                               NaN  NaN          1.0     NaN   \n",
       "2                               NaN  NaN          NaN     NaN   \n",
       "3                               NaN  NaN          NaN     NaN   \n",
       "4                               NaN  NaN          NaN     NaN   \n",
       "\n",
       "   electric___peak_hours  electric___off_peak_hours  jetfuel  \n",
       "0                    NaN                        NaN      NaN  \n",
       "1                    NaN                        NaN      NaN  \n",
       "2                    NaN                        NaN      NaN  \n",
       "3                    NaN                        NaN      NaN  \n",
       "4                    NaN                        NaN      NaN  "
      ]
     },
     "execution_count": 4,
     "metadata": {},
     "output_type": "execute_result"
    }
   ],
   "source": [
    "individuals_carbon_footprint_df.head()"
   ]
  },
  {
   "cell_type": "code",
   "execution_count": 5,
   "metadata": {},
   "outputs": [
    {
     "data": {
      "text/plain": [
       "(27054, 16)"
      ]
     },
     "execution_count": 5,
     "metadata": {},
     "output_type": "execute_result"
    }
   ],
   "source": [
    "# Finding the shape of the data frame\n",
    "individuals_carbon_footprint_df.shape"
   ]
  },
  {
   "cell_type": "markdown",
   "metadata": {},
   "source": [
    "## Section 3 - Augmenting Data (Unpivot Dataframe)"
   ]
  },
  {
   "cell_type": "markdown",
   "metadata": {},
   "source": [
    "This section is responsible to convert the data from 2-Dimensional Table Form which compares data of every individual v/s the type of resource used to a 1-Dimensional Table that lists out the data per individual. This process is like the reverse of pivoting a table."
   ]
  },
  {
   "cell_type": "code",
   "execution_count": 6,
   "metadata": {},
   "outputs": [],
   "source": [
    "# Converting the Dataset from a Big 2 Dimensional Individual v/s Resource Used table to Per Individual focused tabele \n",
    "individuals_carbon_footprint_table = pd.melt(individuals_carbon_footprint_df, id_vars=['Indnum', 'Group',\n",
    "                                                                                       'Activity', 'Units', 'Consumption',\n",
    "                                                                                       'Quality_of_Life_Importance__1_10'],\n",
    "                                             value_vars=individuals_carbon_footprint_df.columns.values[6:],\n",
    "                                             var_name='Name of Resource Used', value_name='Amount of Resource Used per Unit')"
   ]
  },
  {
   "cell_type": "code",
   "execution_count": 7,
   "metadata": {},
   "outputs": [
    {
     "data": {
      "text/html": [
       "<div>\n",
       "<style scoped>\n",
       "    .dataframe tbody tr th:only-of-type {\n",
       "        vertical-align: middle;\n",
       "    }\n",
       "\n",
       "    .dataframe tbody tr th {\n",
       "        vertical-align: top;\n",
       "    }\n",
       "\n",
       "    .dataframe thead th {\n",
       "        text-align: right;\n",
       "    }\n",
       "</style>\n",
       "<table border=\"1\" class=\"dataframe\">\n",
       "  <thead>\n",
       "    <tr style=\"text-align: right;\">\n",
       "      <th></th>\n",
       "      <th>Indnum</th>\n",
       "      <th>Group</th>\n",
       "      <th>Activity</th>\n",
       "      <th>Units</th>\n",
       "      <th>Consumption</th>\n",
       "      <th>Quality_of_Life_Importance__1_10</th>\n",
       "      <th>Name of Resource Used</th>\n",
       "      <th>Amount of Resource Used per Unit</th>\n",
       "    </tr>\n",
       "  </thead>\n",
       "  <tbody>\n",
       "    <tr>\n",
       "      <th>0</th>\n",
       "      <td>1</td>\n",
       "      <td>1</td>\n",
       "      <td>Household heating =&gt; 70F</td>\n",
       "      <td>hours</td>\n",
       "      <td>2.0</td>\n",
       "      <td>88.0</td>\n",
       "      <td>solar_powered__water_heater</td>\n",
       "      <td>NaN</td>\n",
       "    </tr>\n",
       "    <tr>\n",
       "      <th>1</th>\n",
       "      <td>1</td>\n",
       "      <td>1</td>\n",
       "      <td>Household heating &lt; 70F</td>\n",
       "      <td>hours</td>\n",
       "      <td>10.0</td>\n",
       "      <td>85.0</td>\n",
       "      <td>solar_powered__water_heater</td>\n",
       "      <td>1.0</td>\n",
       "    </tr>\n",
       "    <tr>\n",
       "      <th>2</th>\n",
       "      <td>1</td>\n",
       "      <td>1</td>\n",
       "      <td>Use of heat pump</td>\n",
       "      <td>hours</td>\n",
       "      <td>NaN</td>\n",
       "      <td>50.0</td>\n",
       "      <td>solar_powered__water_heater</td>\n",
       "      <td>NaN</td>\n",
       "    </tr>\n",
       "    <tr>\n",
       "      <th>3</th>\n",
       "      <td>1</td>\n",
       "      <td>1</td>\n",
       "      <td>Use of air conditioner</td>\n",
       "      <td>hours</td>\n",
       "      <td>20.0</td>\n",
       "      <td>45.0</td>\n",
       "      <td>solar_powered__water_heater</td>\n",
       "      <td>NaN</td>\n",
       "    </tr>\n",
       "    <tr>\n",
       "      <th>4</th>\n",
       "      <td>1</td>\n",
       "      <td>2</td>\n",
       "      <td>shower - short</td>\n",
       "      <td>count</td>\n",
       "      <td>5.0</td>\n",
       "      <td>98.0</td>\n",
       "      <td>solar_powered__water_heater</td>\n",
       "      <td>NaN</td>\n",
       "    </tr>\n",
       "  </tbody>\n",
       "</table>\n",
       "</div>"
      ],
      "text/plain": [
       "   Indnum  Group                  Activity  Units  Consumption  \\\n",
       "0       1      1  Household heating => 70F  hours          2.0   \n",
       "1       1      1   Household heating < 70F  hours         10.0   \n",
       "2       1      1          Use of heat pump  hours          NaN   \n",
       "3       1      1    Use of air conditioner  hours         20.0   \n",
       "4       1      2            shower - short  count          5.0   \n",
       "\n",
       "   Quality_of_Life_Importance__1_10        Name of Resource Used  \\\n",
       "0                              88.0  solar_powered__water_heater   \n",
       "1                              85.0  solar_powered__water_heater   \n",
       "2                              50.0  solar_powered__water_heater   \n",
       "3                              45.0  solar_powered__water_heater   \n",
       "4                              98.0  solar_powered__water_heater   \n",
       "\n",
       "   Amount of Resource Used per Unit  \n",
       "0                               NaN  \n",
       "1                               1.0  \n",
       "2                               NaN  \n",
       "3                               NaN  \n",
       "4                               NaN  "
      ]
     },
     "execution_count": 7,
     "metadata": {},
     "output_type": "execute_result"
    }
   ],
   "source": [
    "individuals_carbon_footprint_table.head()"
   ]
  },
  {
   "cell_type": "code",
   "execution_count": 8,
   "metadata": {},
   "outputs": [
    {
     "data": {
      "text/plain": [
       "(270540, 8)"
      ]
     },
     "execution_count": 8,
     "metadata": {},
     "output_type": "execute_result"
    }
   ],
   "source": [
    "# Finding the shape of the new table to make sure that no data is lost\n",
    "# The new number of records should be equal to the number of individuals * the number of different resources available.\n",
    "# Here it is equal to - 27054 * 10 - 270540\n",
    "individuals_carbon_footprint_table.shape"
   ]
  },
  {
   "cell_type": "markdown",
   "metadata": {},
   "source": [
    "## Section 4 - Handling NaN Values"
   ]
  },
  {
   "cell_type": "markdown",
   "metadata": {},
   "source": [
    "This section is responsible to actually handle/filter the various NaN values present in the Amount Column of the table when the dataframe has been melted (unpivoted)"
   ]
  },
  {
   "cell_type": "code",
   "execution_count": 10,
   "metadata": {},
   "outputs": [],
   "source": [
    "#Cleaning the table, by dropping the records where we have NaN values in the column of amount of resource used per unit\n",
    "individuals_carbon_footprint_table_drop_na = individuals_carbon_footprint_table.dropna(axis = 0)"
   ]
  },
  {
   "cell_type": "code",
   "execution_count": 11,
   "metadata": {},
   "outputs": [
    {
     "data": {
      "text/html": [
       "<div>\n",
       "<style scoped>\n",
       "    .dataframe tbody tr th:only-of-type {\n",
       "        vertical-align: middle;\n",
       "    }\n",
       "\n",
       "    .dataframe tbody tr th {\n",
       "        vertical-align: top;\n",
       "    }\n",
       "\n",
       "    .dataframe thead th {\n",
       "        text-align: right;\n",
       "    }\n",
       "</style>\n",
       "<table border=\"1\" class=\"dataframe\">\n",
       "  <thead>\n",
       "    <tr style=\"text-align: right;\">\n",
       "      <th></th>\n",
       "      <th>Indnum</th>\n",
       "      <th>Group</th>\n",
       "      <th>Activity</th>\n",
       "      <th>Units</th>\n",
       "      <th>Consumption</th>\n",
       "      <th>Quality_of_Life_Importance__1_10</th>\n",
       "      <th>Name of Resource Used</th>\n",
       "      <th>Amount of Resource Used per Unit</th>\n",
       "    </tr>\n",
       "  </thead>\n",
       "  <tbody>\n",
       "    <tr>\n",
       "      <th>1</th>\n",
       "      <td>1</td>\n",
       "      <td>1</td>\n",
       "      <td>Household heating &lt; 70F</td>\n",
       "      <td>hours</td>\n",
       "      <td>10.0</td>\n",
       "      <td>85.0</td>\n",
       "      <td>solar_powered__water_heater</td>\n",
       "      <td>1.0</td>\n",
       "    </tr>\n",
       "    <tr>\n",
       "      <th>34</th>\n",
       "      <td>2</td>\n",
       "      <td>2</td>\n",
       "      <td>wash-up</td>\n",
       "      <td>count</td>\n",
       "      <td>44.0</td>\n",
       "      <td>34.0</td>\n",
       "      <td>solar_powered__water_heater</td>\n",
       "      <td>1.0</td>\n",
       "    </tr>\n",
       "    <tr>\n",
       "      <th>59</th>\n",
       "      <td>3</td>\n",
       "      <td>2</td>\n",
       "      <td>shower - long (&gt; 3 min)</td>\n",
       "      <td>count</td>\n",
       "      <td>40.0</td>\n",
       "      <td>85.0</td>\n",
       "      <td>solar_powered__water_heater</td>\n",
       "      <td>1.0</td>\n",
       "    </tr>\n",
       "    <tr>\n",
       "      <th>61</th>\n",
       "      <td>3</td>\n",
       "      <td>2</td>\n",
       "      <td>wash-up</td>\n",
       "      <td>count</td>\n",
       "      <td>45.0</td>\n",
       "      <td>27.0</td>\n",
       "      <td>solar_powered__water_heater</td>\n",
       "      <td>1.0</td>\n",
       "    </tr>\n",
       "    <tr>\n",
       "      <th>117</th>\n",
       "      <td>5</td>\n",
       "      <td>3</td>\n",
       "      <td>use of clothes washer</td>\n",
       "      <td>count</td>\n",
       "      <td>7.0</td>\n",
       "      <td>41.0</td>\n",
       "      <td>solar_powered__water_heater</td>\n",
       "      <td>1.0</td>\n",
       "    </tr>\n",
       "  </tbody>\n",
       "</table>\n",
       "</div>"
      ],
      "text/plain": [
       "     Indnum  Group                 Activity  Units  Consumption  \\\n",
       "1         1      1  Household heating < 70F  hours         10.0   \n",
       "34        2      2                  wash-up  count         44.0   \n",
       "59        3      2  shower - long (> 3 min)  count         40.0   \n",
       "61        3      2                  wash-up  count         45.0   \n",
       "117       5      3    use of clothes washer  count          7.0   \n",
       "\n",
       "     Quality_of_Life_Importance__1_10        Name of Resource Used  \\\n",
       "1                                85.0  solar_powered__water_heater   \n",
       "34                               34.0  solar_powered__water_heater   \n",
       "59                               85.0  solar_powered__water_heater   \n",
       "61                               27.0  solar_powered__water_heater   \n",
       "117                              41.0  solar_powered__water_heater   \n",
       "\n",
       "     Amount of Resource Used per Unit  \n",
       "1                                 1.0  \n",
       "34                                1.0  \n",
       "59                                1.0  \n",
       "61                                1.0  \n",
       "117                               1.0  "
      ]
     },
     "execution_count": 11,
     "metadata": {},
     "output_type": "execute_result"
    }
   ],
   "source": [
    "# Make sure the data is as expected\n",
    "individuals_carbon_footprint_table_drop_na.head()"
   ]
  },
  {
   "cell_type": "code",
   "execution_count": 12,
   "metadata": {},
   "outputs": [
    {
     "data": {
      "text/plain": [
       "(8997, 8)"
      ]
     },
     "execution_count": 12,
     "metadata": {},
     "output_type": "execute_result"
    }
   ],
   "source": [
    "# Finding the new number of records left after removing NaN Values\n",
    "individuals_carbon_footprint_table_drop_na.shape"
   ]
  },
  {
   "cell_type": "code",
   "execution_count": 15,
   "metadata": {},
   "outputs": [],
   "source": [
    "# Cleaning the table, by replacing the records where we have NaN values in the column of amount of resource used per unit with 0.0\n",
    "individuals_carbon_footprint_table_replace_na_zero = individuals_carbon_footprint_table\n",
    "individuals_carbon_footprint_table_replace_na_zero['Amount of Resource Used per Unit'] = np.nan_to_num(\n",
    "    individuals_carbon_footprint_table_replace_na_zero['Amount of Resource Used per Unit'])"
   ]
  },
  {
   "cell_type": "code",
   "execution_count": 16,
   "metadata": {},
   "outputs": [
    {
     "data": {
      "text/html": [
       "<div>\n",
       "<style scoped>\n",
       "    .dataframe tbody tr th:only-of-type {\n",
       "        vertical-align: middle;\n",
       "    }\n",
       "\n",
       "    .dataframe tbody tr th {\n",
       "        vertical-align: top;\n",
       "    }\n",
       "\n",
       "    .dataframe thead th {\n",
       "        text-align: right;\n",
       "    }\n",
       "</style>\n",
       "<table border=\"1\" class=\"dataframe\">\n",
       "  <thead>\n",
       "    <tr style=\"text-align: right;\">\n",
       "      <th></th>\n",
       "      <th>Indnum</th>\n",
       "      <th>Group</th>\n",
       "      <th>Activity</th>\n",
       "      <th>Units</th>\n",
       "      <th>Consumption</th>\n",
       "      <th>Quality_of_Life_Importance__1_10</th>\n",
       "      <th>Name of Resource Used</th>\n",
       "      <th>Amount of Resource Used per Unit</th>\n",
       "    </tr>\n",
       "  </thead>\n",
       "  <tbody>\n",
       "    <tr>\n",
       "      <th>0</th>\n",
       "      <td>1</td>\n",
       "      <td>1</td>\n",
       "      <td>Household heating =&gt; 70F</td>\n",
       "      <td>hours</td>\n",
       "      <td>2.0</td>\n",
       "      <td>88.0</td>\n",
       "      <td>solar_powered__water_heater</td>\n",
       "      <td>0.0</td>\n",
       "    </tr>\n",
       "    <tr>\n",
       "      <th>1</th>\n",
       "      <td>1</td>\n",
       "      <td>1</td>\n",
       "      <td>Household heating &lt; 70F</td>\n",
       "      <td>hours</td>\n",
       "      <td>10.0</td>\n",
       "      <td>85.0</td>\n",
       "      <td>solar_powered__water_heater</td>\n",
       "      <td>1.0</td>\n",
       "    </tr>\n",
       "    <tr>\n",
       "      <th>2</th>\n",
       "      <td>1</td>\n",
       "      <td>1</td>\n",
       "      <td>Use of heat pump</td>\n",
       "      <td>hours</td>\n",
       "      <td>NaN</td>\n",
       "      <td>50.0</td>\n",
       "      <td>solar_powered__water_heater</td>\n",
       "      <td>0.0</td>\n",
       "    </tr>\n",
       "    <tr>\n",
       "      <th>3</th>\n",
       "      <td>1</td>\n",
       "      <td>1</td>\n",
       "      <td>Use of air conditioner</td>\n",
       "      <td>hours</td>\n",
       "      <td>20.0</td>\n",
       "      <td>45.0</td>\n",
       "      <td>solar_powered__water_heater</td>\n",
       "      <td>0.0</td>\n",
       "    </tr>\n",
       "    <tr>\n",
       "      <th>4</th>\n",
       "      <td>1</td>\n",
       "      <td>2</td>\n",
       "      <td>shower - short</td>\n",
       "      <td>count</td>\n",
       "      <td>5.0</td>\n",
       "      <td>98.0</td>\n",
       "      <td>solar_powered__water_heater</td>\n",
       "      <td>0.0</td>\n",
       "    </tr>\n",
       "  </tbody>\n",
       "</table>\n",
       "</div>"
      ],
      "text/plain": [
       "   Indnum  Group                  Activity  Units  Consumption  \\\n",
       "0       1      1  Household heating => 70F  hours          2.0   \n",
       "1       1      1   Household heating < 70F  hours         10.0   \n",
       "2       1      1          Use of heat pump  hours          NaN   \n",
       "3       1      1    Use of air conditioner  hours         20.0   \n",
       "4       1      2            shower - short  count          5.0   \n",
       "\n",
       "   Quality_of_Life_Importance__1_10        Name of Resource Used  \\\n",
       "0                              88.0  solar_powered__water_heater   \n",
       "1                              85.0  solar_powered__water_heater   \n",
       "2                              50.0  solar_powered__water_heater   \n",
       "3                              45.0  solar_powered__water_heater   \n",
       "4                              98.0  solar_powered__water_heater   \n",
       "\n",
       "   Amount of Resource Used per Unit  \n",
       "0                               0.0  \n",
       "1                               1.0  \n",
       "2                               0.0  \n",
       "3                               0.0  \n",
       "4                               0.0  "
      ]
     },
     "execution_count": 16,
     "metadata": {},
     "output_type": "execute_result"
    }
   ],
   "source": [
    "# Make sure the data is as expected\n",
    "individuals_carbon_footprint_table_replace_na_zero.head()"
   ]
  },
  {
   "cell_type": "code",
   "execution_count": 17,
   "metadata": {},
   "outputs": [
    {
     "data": {
      "text/plain": [
       "(270540, 8)"
      ]
     },
     "execution_count": 17,
     "metadata": {},
     "output_type": "execute_result"
    }
   ],
   "source": [
    "# Making sure that no record is dropped\n",
    "individuals_carbon_footprint_table_replace_na_zero.shape"
   ]
  },
  {
   "cell_type": "markdown",
   "metadata": {},
   "source": [
    "## Section 5 - Saving the Tables"
   ]
  },
  {
   "cell_type": "markdown",
   "metadata": {},
   "source": [
    "This section is used to save the tables generated into csv files as part of saving data as we clean and filter it."
   ]
  },
  {
   "cell_type": "code",
   "execution_count": 19,
   "metadata": {},
   "outputs": [],
   "source": [
    "# Saving these data_frames into csv_files\n",
    "individuals_carbon_footprint_table_drop_na.to_csv(r'Individuals_Carbon_Footprint_NA_Dropped.csv', index=False)\n",
    "individuals_carbon_footprint_table_replace_na_zero.to_csv(r'Individuals_Carbon_Footprint_NA_Zeroed.csv', index=False)"
   ]
  },
  {
   "cell_type": "code",
   "execution_count": null,
   "metadata": {},
   "outputs": [],
   "source": []
  }
 ],
 "metadata": {
  "kernelspec": {
   "display_name": "Python 3",
   "language": "python",
   "name": "python3"
  },
  "language_info": {
   "codemirror_mode": {
    "name": "ipython",
    "version": 3
   },
   "file_extension": ".py",
   "mimetype": "text/x-python",
   "name": "python",
   "nbconvert_exporter": "python",
   "pygments_lexer": "ipython3",
   "version": "3.6.5"
  }
 },
 "nbformat": 4,
 "nbformat_minor": 2
}
